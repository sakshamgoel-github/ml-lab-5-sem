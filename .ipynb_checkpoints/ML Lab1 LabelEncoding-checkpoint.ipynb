{
 "cells": [
  {
   "cell_type": "code",
   "execution_count": 1,
   "id": "d9c9dee2",
   "metadata": {},
   "outputs": [],
   "source": [
    "import pandas as pd\n",
    "import numpy as np"
   ]
  },
  {
   "cell_type": "code",
   "execution_count": 2,
   "id": "c05d35d5",
   "metadata": {},
   "outputs": [],
   "source": [
    "df = pd.read_csv(\"Pokemon.csv\")"
   ]
  },
  {
   "cell_type": "code",
   "execution_count": 3,
   "id": "4d9d2449",
   "metadata": {},
   "outputs": [
    {
     "data": {
      "text/html": [
       "<div>\n",
       "<style scoped>\n",
       "    .dataframe tbody tr th:only-of-type {\n",
       "        vertical-align: middle;\n",
       "    }\n",
       "\n",
       "    .dataframe tbody tr th {\n",
       "        vertical-align: top;\n",
       "    }\n",
       "\n",
       "    .dataframe thead th {\n",
       "        text-align: right;\n",
       "    }\n",
       "</style>\n",
       "<table border=\"1\" class=\"dataframe\">\n",
       "  <thead>\n",
       "    <tr style=\"text-align: right;\">\n",
       "      <th></th>\n",
       "      <th>Name</th>\n",
       "      <th>Type</th>\n",
       "      <th>Strength</th>\n",
       "      <th>HP</th>\n",
       "      <th>Attack</th>\n",
       "      <th>Defense</th>\n",
       "      <th>Legendary</th>\n",
       "    </tr>\n",
       "  </thead>\n",
       "  <tbody>\n",
       "    <tr>\n",
       "      <th>0</th>\n",
       "      <td>Thundurus Incarnate Forme</td>\n",
       "      <td>Electric</td>\n",
       "      <td>Medium</td>\n",
       "      <td>79</td>\n",
       "      <td>115</td>\n",
       "      <td>70</td>\n",
       "      <td>True</td>\n",
       "    </tr>\n",
       "    <tr>\n",
       "      <th>1</th>\n",
       "      <td>Mega Garchomp</td>\n",
       "      <td>Dragon</td>\n",
       "      <td>Strong</td>\n",
       "      <td>108</td>\n",
       "      <td>170</td>\n",
       "      <td>115</td>\n",
       "      <td>False</td>\n",
       "    </tr>\n",
       "    <tr>\n",
       "      <th>2</th>\n",
       "      <td>Rayquaza</td>\n",
       "      <td>Dragon</td>\n",
       "      <td>Strong</td>\n",
       "      <td>105</td>\n",
       "      <td>150</td>\n",
       "      <td>90</td>\n",
       "      <td>True</td>\n",
       "    </tr>\n",
       "    <tr>\n",
       "      <th>3</th>\n",
       "      <td>Ekans</td>\n",
       "      <td>Poison</td>\n",
       "      <td>Low</td>\n",
       "      <td>35</td>\n",
       "      <td>60</td>\n",
       "      <td>44</td>\n",
       "      <td>False</td>\n",
       "    </tr>\n",
       "    <tr>\n",
       "      <th>4</th>\n",
       "      <td>Reshiram</td>\n",
       "      <td>Dragon</td>\n",
       "      <td>Strong</td>\n",
       "      <td>100</td>\n",
       "      <td>120</td>\n",
       "      <td>100</td>\n",
       "      <td>True</td>\n",
       "    </tr>\n",
       "  </tbody>\n",
       "</table>\n",
       "</div>"
      ],
      "text/plain": [
       "                        Name      Type Strength   HP  Attack  Defense  \\\n",
       "0  Thundurus Incarnate Forme  Electric   Medium   79     115       70   \n",
       "1              Mega Garchomp    Dragon   Strong  108     170      115   \n",
       "2                   Rayquaza    Dragon   Strong  105     150       90   \n",
       "3                      Ekans    Poison      Low   35      60       44   \n",
       "4                   Reshiram    Dragon   Strong  100     120      100   \n",
       "\n",
       "   Legendary  \n",
       "0       True  \n",
       "1      False  \n",
       "2       True  \n",
       "3      False  \n",
       "4       True  "
      ]
     },
     "execution_count": 3,
     "metadata": {},
     "output_type": "execute_result"
    }
   ],
   "source": [
    "df.head()"
   ]
  },
  {
   "cell_type": "code",
   "execution_count": 4,
   "id": "19c5df13",
   "metadata": {},
   "outputs": [
    {
     "data": {
      "text/plain": [
       "array([ True, False])"
      ]
     },
     "execution_count": 4,
     "metadata": {},
     "output_type": "execute_result"
    }
   ],
   "source": [
    "df[\"Legendary\"].unique()"
   ]
  },
  {
   "cell_type": "code",
   "execution_count": 5,
   "id": "ca11f4b4",
   "metadata": {},
   "outputs": [],
   "source": [
    "from sklearn.preprocessing import LabelEncoder"
   ]
  },
  {
   "cell_type": "code",
   "execution_count": 6,
   "id": "24f2c7c3",
   "metadata": {},
   "outputs": [],
   "source": [
    "enc = LabelEncoder()"
   ]
  },
  {
   "cell_type": "code",
   "execution_count": 7,
   "id": "e778f607",
   "metadata": {},
   "outputs": [],
   "source": [
    "df[\"Legendary\"]=enc.fit_transform(df[\"Legendary\"])"
   ]
  },
  {
   "cell_type": "code",
   "execution_count": 8,
   "id": "a1789ccd",
   "metadata": {},
   "outputs": [
    {
     "data": {
      "text/html": [
       "<div>\n",
       "<style scoped>\n",
       "    .dataframe tbody tr th:only-of-type {\n",
       "        vertical-align: middle;\n",
       "    }\n",
       "\n",
       "    .dataframe tbody tr th {\n",
       "        vertical-align: top;\n",
       "    }\n",
       "\n",
       "    .dataframe thead th {\n",
       "        text-align: right;\n",
       "    }\n",
       "</style>\n",
       "<table border=\"1\" class=\"dataframe\">\n",
       "  <thead>\n",
       "    <tr style=\"text-align: right;\">\n",
       "      <th></th>\n",
       "      <th>Name</th>\n",
       "      <th>Type</th>\n",
       "      <th>Strength</th>\n",
       "      <th>HP</th>\n",
       "      <th>Attack</th>\n",
       "      <th>Defense</th>\n",
       "      <th>Legendary</th>\n",
       "    </tr>\n",
       "  </thead>\n",
       "  <tbody>\n",
       "    <tr>\n",
       "      <th>0</th>\n",
       "      <td>Thundurus Incarnate Forme</td>\n",
       "      <td>Electric</td>\n",
       "      <td>Medium</td>\n",
       "      <td>79</td>\n",
       "      <td>115</td>\n",
       "      <td>70</td>\n",
       "      <td>1</td>\n",
       "    </tr>\n",
       "    <tr>\n",
       "      <th>1</th>\n",
       "      <td>Mega Garchomp</td>\n",
       "      <td>Dragon</td>\n",
       "      <td>Strong</td>\n",
       "      <td>108</td>\n",
       "      <td>170</td>\n",
       "      <td>115</td>\n",
       "      <td>0</td>\n",
       "    </tr>\n",
       "    <tr>\n",
       "      <th>2</th>\n",
       "      <td>Rayquaza</td>\n",
       "      <td>Dragon</td>\n",
       "      <td>Strong</td>\n",
       "      <td>105</td>\n",
       "      <td>150</td>\n",
       "      <td>90</td>\n",
       "      <td>1</td>\n",
       "    </tr>\n",
       "    <tr>\n",
       "      <th>3</th>\n",
       "      <td>Ekans</td>\n",
       "      <td>Poison</td>\n",
       "      <td>Low</td>\n",
       "      <td>35</td>\n",
       "      <td>60</td>\n",
       "      <td>44</td>\n",
       "      <td>0</td>\n",
       "    </tr>\n",
       "    <tr>\n",
       "      <th>4</th>\n",
       "      <td>Reshiram</td>\n",
       "      <td>Dragon</td>\n",
       "      <td>Strong</td>\n",
       "      <td>100</td>\n",
       "      <td>120</td>\n",
       "      <td>100</td>\n",
       "      <td>1</td>\n",
       "    </tr>\n",
       "  </tbody>\n",
       "</table>\n",
       "</div>"
      ],
      "text/plain": [
       "                        Name      Type Strength   HP  Attack  Defense  \\\n",
       "0  Thundurus Incarnate Forme  Electric   Medium   79     115       70   \n",
       "1              Mega Garchomp    Dragon   Strong  108     170      115   \n",
       "2                   Rayquaza    Dragon   Strong  105     150       90   \n",
       "3                      Ekans    Poison      Low   35      60       44   \n",
       "4                   Reshiram    Dragon   Strong  100     120      100   \n",
       "\n",
       "   Legendary  \n",
       "0          1  \n",
       "1          0  \n",
       "2          1  \n",
       "3          0  \n",
       "4          1  "
      ]
     },
     "execution_count": 8,
     "metadata": {},
     "output_type": "execute_result"
    }
   ],
   "source": [
    "df.head()"
   ]
  },
  {
   "cell_type": "code",
   "execution_count": null,
   "id": "2f5aad97",
   "metadata": {},
   "outputs": [],
   "source": []
  }
 ],
 "metadata": {
  "kernelspec": {
   "display_name": "Python 3 (ipykernel)",
   "language": "python",
   "name": "python3"
  },
  "language_info": {
   "codemirror_mode": {
    "name": "ipython",
    "version": 3
   },
   "file_extension": ".py",
   "mimetype": "text/x-python",
   "name": "python",
   "nbconvert_exporter": "python",
   "pygments_lexer": "ipython3",
   "version": "3.9.12"
  }
 },
 "nbformat": 4,
 "nbformat_minor": 5
}
